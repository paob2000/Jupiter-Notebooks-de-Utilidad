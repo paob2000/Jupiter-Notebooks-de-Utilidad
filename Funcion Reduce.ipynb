{
 "cells": [
  {
   "cell_type": "markdown",
   "metadata": {},
   "source": [
    "# FUNCION REDUCE\n",
    "\n",
    "* Reduce implementa una operacion matematica llamada folding o reduccion\n",
    "* util para aplicar a una misma funcion a un elemento iterable\n",
    "* se importa desde \"functools\"\n",
    "* Sintaxis: reduce(funcion, iterable, initializer)"
   ]
  },
  {
   "cell_type": "code",
   "execution_count": 2,
   "metadata": {},
   "outputs": [
    {
     "data": {
      "text/plain": [
       "110"
      ]
     },
     "execution_count": 2,
     "metadata": {},
     "output_type": "execute_result"
    }
   ],
   "source": [
    "#Ejemplo suma iterable\n",
    "\n",
    "from functools import reduce\n",
    "\n",
    "numbers = [0,1,2,3,4]\n",
    "\n",
    "reduce(lambda a,b: a + b, numbers,100)"
   ]
  },
  {
   "cell_type": "code",
   "execution_count": 3,
   "metadata": {},
   "outputs": [
    {
     "data": {
      "text/plain": [
       "10"
      ]
     },
     "execution_count": 3,
     "metadata": {},
     "output_type": "execute_result"
    }
   ],
   "source": [
    "#Ejemplo usando la funcion add\n",
    "from operator import add\n",
    "numbers = [0,1,2,3,4]\n",
    "reduce(add,numbers)"
   ]
  },
  {
   "cell_type": "code",
   "execution_count": null,
   "metadata": {},
   "outputs": [],
   "source": []
  }
 ],
 "metadata": {
  "kernelspec": {
   "display_name": "base",
   "language": "python",
   "name": "python3"
  },
  "language_info": {
   "codemirror_mode": {
    "name": "ipython",
    "version": 3
   },
   "file_extension": ".py",
   "mimetype": "text/x-python",
   "name": "python",
   "nbconvert_exporter": "python",
   "pygments_lexer": "ipython3",
   "version": "3.12.7"
  }
 },
 "nbformat": 4,
 "nbformat_minor": 2
}
