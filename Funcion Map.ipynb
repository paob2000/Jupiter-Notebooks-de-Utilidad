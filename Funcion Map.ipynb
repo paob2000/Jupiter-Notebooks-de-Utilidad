{
 "cells": [
  {
   "cell_type": "markdown",
   "metadata": {},
   "source": [
    "# FUNCION MAP\n",
    "\n",
    "+ La funcion map() retorna un objeto map (un iterador) de los resultados aplicados a cada uno de los items de iterable, enviado como parametro\n",
    "+ Retorna una lista de resultados, luego de aplicar la misma funcion a todos los items de un mismo iterable (list,tuple)\n",
    "+ Uso: map(function, iterable, [iterable1,iterable2,...])"
   ]
  },
  {
   "cell_type": "code",
   "execution_count": 1,
   "metadata": {},
   "outputs": [
    {
     "name": "stdout",
     "output_type": "stream",
     "text": [
      "[1, 8, 27, 64, 125]\n"
     ]
    }
   ],
   "source": [
    "# Ejemplo - Generando una ooperación a ser aplicada a un listado de números\n",
    "# Este es un ejemplo sin map()\n",
    "# Generando un listado de números con exponencial.\n",
    "\n",
    "#Declara las listas a ser usadas\n",
    "org_list = [1,2,3,4,5]\n",
    "fin_list = []\n",
    "\n",
    "#Aplica la operación a cdda uno de los numero de la lista\n",
    "for num in org_list:\n",
    "    fin_list.append(num**3)\n",
    "\n",
    "print(fin_list)"
   ]
  },
  {
   "cell_type": "code",
   "execution_count": 3,
   "metadata": {},
   "outputs": [
    {
     "name": "stdout",
     "output_type": "stream",
     "text": [
      "[1, 8, 27, 64, 125]\n"
     ]
    }
   ],
   "source": [
    "# El mimso ejemplo exponencial usando map()\n",
    "\n",
    "#Declara las listas a ser usadas\n",
    "org_list = [1,2,3,4,5]\n",
    "\n",
    "#Define la funcion a ser aplicada a cada número\n",
    "def cube(num):\n",
    "    return num**3\n",
    "\n",
    "# Aplica la funcion map()\n",
    "fin_list = list(map(cube, org_list))\n",
    "print(fin_list)\n"
   ]
  },
  {
   "cell_type": "code",
   "execution_count": 4,
   "metadata": {},
   "outputs": [
    {
     "name": "stdout",
     "output_type": "stream",
     "text": [
      "[3, 5, 4]\n"
     ]
    }
   ],
   "source": [
    "#Largo de cada elemento de una vista\n",
    "# Utilizo la funcion de Python \"Len\"\n",
    "\n",
    "org_list = [\"Hey\", \"Mundo\", \"EBAC\"]\n",
    "fin_list = list(map(len,org_list))\n",
    "print(fin_list)"
   ]
  },
  {
   "cell_type": "code",
   "execution_count": 5,
   "metadata": {},
   "outputs": [
    {
     "name": "stdout",
     "output_type": "stream",
     "text": [
      "[1, 4, 27, 256]\n"
     ]
    }
   ],
   "source": [
    "# Usanto mas de un iterable (base y power)\n",
    "# Aprovecho la funcion \"pow\" de Python\n",
    "\n",
    "base = [1,2,3,4]\n",
    "power = [1,2,3,4]\n",
    "\n",
    "result = list(map(pow,base,power))\n",
    "print(result)"
   ]
  },
  {
   "cell_type": "code",
   "execution_count": 7,
   "metadata": {},
   "outputs": [
    {
     "name": "stdout",
     "output_type": "stream",
     "text": [
      "[1, 8, 27, 64, 125]\n"
     ]
    }
   ],
   "source": [
    "\n",
    "# Ejemplo de map usando lambdas\n",
    "\n",
    "org_list = [1,2,3,4,5]\n",
    "\n",
    "fin_list = list(map(lambda x:x**3, org_list))\n",
    "print(fin_list)"
   ]
  },
  {
   "cell_type": "code",
   "execution_count": 8,
   "metadata": {},
   "outputs": [
    {
     "name": "stdout",
     "output_type": "stream",
     "text": [
      "[2, 4, 6, 8]\n"
     ]
    }
   ],
   "source": [
    "# Doble de un numero\n",
    "def addition(n):\n",
    "    return  n + n\n",
    "\n",
    "numeros = [1,2,3,4]\n",
    "result = list(map(addition,numeros))\n",
    "print(result)"
   ]
  },
  {
   "cell_type": "code",
   "execution_count": 9,
   "metadata": {},
   "outputs": [
    {
     "name": "stdout",
     "output_type": "stream",
     "text": [
      "[2, 4, 6, 8]\n"
     ]
    }
   ],
   "source": [
    "# Doble de un numero con lamda\n",
    "\n",
    "numeros = [1,2,3,4]\n",
    "\n",
    "print(list(map(lambda x:x+x,numeros)))"
   ]
  },
  {
   "cell_type": "code",
   "execution_count": 10,
   "metadata": {},
   "outputs": [
    {
     "name": "stdout",
     "output_type": "stream",
     "text": [
      "[5, 7, 9]\n"
     ]
    }
   ],
   "source": [
    "# suma de dos listas con map y lambda\n",
    "lista1 = [1,2,3]\n",
    "lista2 = [4,5,6]\n",
    "\n",
    "print(list(map(lambda x,y: x + y, lista1,lista2)))"
   ]
  },
  {
   "cell_type": "code",
   "execution_count": 12,
   "metadata": {},
   "outputs": [
    {
     "name": "stdout",
     "output_type": "stream",
     "text": [
      "[['s', 'a', 't'], ['b', 'a', 't'], ['c', 'a', 't'], ['m', 'a', 't']]\n"
     ]
    }
   ],
   "source": [
    "#Ejemplo con cadenas de caractres\n",
    "\n",
    "l = ['sat', 'bat', 'cat', 'mat']\n",
    "\n",
    "print(list(map(list,l)))\n"
   ]
  },
  {
   "cell_type": "code",
   "execution_count": null,
   "metadata": {},
   "outputs": [],
   "source": []
  }
 ],
 "metadata": {
  "kernelspec": {
   "display_name": "base",
   "language": "python",
   "name": "python3"
  },
  "language_info": {
   "codemirror_mode": {
    "name": "ipython",
    "version": 3
   },
   "file_extension": ".py",
   "mimetype": "text/x-python",
   "name": "python",
   "nbconvert_exporter": "python",
   "pygments_lexer": "ipython3",
   "version": "3.12.7"
  }
 },
 "nbformat": 4,
 "nbformat_minor": 2
}
