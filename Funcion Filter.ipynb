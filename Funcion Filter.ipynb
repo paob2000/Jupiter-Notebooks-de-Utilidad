{
 "cells": [
  {
   "cell_type": "markdown",
   "metadata": {},
   "source": [
    "# FUNCION FILTER\n",
    "\n",
    "* Permite extraer valore iterables\n",
    "* Sintaxix: filter(function,iterable)"
   ]
  },
  {
   "cell_type": "code",
   "execution_count": 1,
   "metadata": {},
   "outputs": [
    {
     "data": {
      "text/plain": [
       "[10, 6, 50]"
      ]
     },
     "execution_count": 1,
     "metadata": {},
     "output_type": "execute_result"
    }
   ],
   "source": [
    "#Ejemplo para ver numeros pares de una lista\n",
    "\n",
    "numbers = [1,3,10,45,6,50]\n",
    "\n",
    "def extract_even(numbers):\n",
    "    even_numbers = []\n",
    "    for number in numbers:\n",
    "        if number % 2 == 0:\n",
    "            even_numbers.append(number)\n",
    "    return even_numbers\n",
    "\n",
    "extract_even(numbers)"
   ]
  },
  {
   "cell_type": "code",
   "execution_count": 2,
   "metadata": {},
   "outputs": [
    {
     "data": {
      "text/plain": [
       "6"
      ]
     },
     "execution_count": 2,
     "metadata": {},
     "output_type": "execute_result"
    }
   ],
   "source": [
    "# Funcion mod\n",
    "20 % 7"
   ]
  },
  {
   "cell_type": "code",
   "execution_count": 3,
   "metadata": {},
   "outputs": [
    {
     "data": {
      "text/plain": [
       "[10, 6, 50]"
      ]
     },
     "execution_count": 3,
     "metadata": {},
     "output_type": "execute_result"
    }
   ],
   "source": [
    "# Ejemplo usando Filter\n",
    "\n",
    "numbers = [1,3,10,45,6,50]\n",
    "\n",
    "def is_even(number):\n",
    "    return number % 2 == 0\n",
    "\n",
    "list(filter(is_even,numbers))\n",
    "\n",
    "\n"
   ]
  },
  {
   "cell_type": "code",
   "execution_count": 4,
   "metadata": {},
   "outputs": [
    {
     "data": {
      "text/plain": [
       "[1, 2]"
      ]
     },
     "execution_count": 4,
     "metadata": {},
     "output_type": "execute_result"
    }
   ],
   "source": [
    "# Ejemplo numeros positivos de una lista\n",
    "\n",
    "numbers = [-2, -1, 0, 1, 2]\n",
    "\n",
    "def is_pos(number):\n",
    "    return number > 0\n",
    "\n",
    "list(filter(is_pos,numbers))"
   ]
  },
  {
   "cell_type": "code",
   "execution_count": null,
   "metadata": {},
   "outputs": [
    {
     "data": {
      "text/plain": [
       "[1, 2]"
      ]
     },
     "execution_count": 5,
     "metadata": {},
     "output_type": "execute_result"
    }
   ],
   "source": [
    "# ejemplo lambda\n",
    "numbers = [-2, -1, 0, 1, 2]\n",
    "list(filter(lambda x : x > 0, numbers))"
   ]
  },
  {
   "cell_type": "code",
   "execution_count": 9,
   "metadata": {},
   "outputs": [
    {
     "name": "stdout",
     "output_type": "stream",
     "text": [
      "Media: 10.69 - Bajo: -7.13 - Alto: 28.51\n"
     ]
    }
   ],
   "source": [
    "#Eliminando outliers de eun listado de numeros\n",
    "\n",
    "import statistics as st\n",
    "sample = [10,8,10,8,2,7,9,3,34,9,5,9,25]\n",
    "\n",
    "#Calcula la media de la muestra\n",
    "mean = st.mean(sample)\n",
    "\n",
    "# Calcula dos desviaciones estandar como el limite bajo y alto para filtrar la lista\n",
    "stdev = st.stdev(sample)\n",
    "low = mean - 2 * stdev\n",
    "high = mean + 2 * stdev\n",
    "\n",
    "print(f'Media: {mean:.2f} - Bajo: {low:.2f} - Alto: {high:.2f}')"
   ]
  },
  {
   "cell_type": "code",
   "execution_count": 10,
   "metadata": {},
   "outputs": [
    {
     "data": {
      "text/plain": [
       "[10, 8, 10, 8, 2, 7, 9, 3, 9, 5, 9, 25]"
      ]
     },
     "execution_count": 10,
     "metadata": {},
     "output_type": "execute_result"
    }
   ],
   "source": [
    "clean_sample = list(filter(lambda x: low <= x <= high,sample))\n",
    "clean_sample"
   ]
  },
  {
   "cell_type": "code",
   "execution_count": 13,
   "metadata": {},
   "outputs": [
    {
     "name": "stdout",
     "output_type": "stream",
     "text": [
      "True\n",
      "False\n"
     ]
    }
   ],
   "source": [
    "#Funcion para buscar palabras palindromes\n",
    "def is_pal(word):\n",
    "    reversed_word = \"\".join(reversed(word))\n",
    "    return word.lower() == reversed_word.lower()\n",
    "\n",
    "print(is_pal(\"Madam\"))\n",
    "print(is_pal(\"EBAC\"))"
   ]
  },
  {
   "cell_type": "code",
   "execution_count": 14,
   "metadata": {},
   "outputs": [
    {
     "data": {
      "text/plain": [
       "['Ana', 'madam', 'racecar', 'sosos']"
      ]
     },
     "execution_count": 14,
     "metadata": {},
     "output_type": "execute_result"
    }
   ],
   "source": [
    "#Ejemplo para encontrar palabras palindromes\n",
    "words = [\"filter\", \"Ana\", \"hello\", \"world\", \"madam\", \"racecar\", \"sosos\"]\n",
    "list(filter(is_pal,words))"
   ]
  },
  {
   "cell_type": "code",
   "execution_count": null,
   "metadata": {},
   "outputs": [],
   "source": []
  }
 ],
 "metadata": {
  "kernelspec": {
   "display_name": "base",
   "language": "python",
   "name": "python3"
  },
  "language_info": {
   "codemirror_mode": {
    "name": "ipython",
    "version": 3
   },
   "file_extension": ".py",
   "mimetype": "text/x-python",
   "name": "python",
   "nbconvert_exporter": "python",
   "pygments_lexer": "ipython3",
   "version": "3.12.7"
  }
 },
 "nbformat": 4,
 "nbformat_minor": 2
}
