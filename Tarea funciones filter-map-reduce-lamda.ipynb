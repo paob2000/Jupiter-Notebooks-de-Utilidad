{
 "cells": [
  {
   "cell_type": "markdown",
   "metadata": {},
   "source": [
    "1. Función lambda para obtener la raíz cuadrada de un número.\n",
    "\n",
    "2. Función map, para obtener el largo de una cadena de palabras. Tip! La cadena tiene que ser dividida en palabras antes de empezar. \n",
    "\n",
    "3. Función reduce, que sirva para calcular el producto de una lista \n",
    "\n",
    "4. Función filter que sirva para encontrar palabras que contengan mayúsculas o números en un listado "
   ]
  },
  {
   "cell_type": "code",
   "execution_count": null,
   "metadata": {},
   "outputs": [
    {
     "name": "stdout",
     "output_type": "stream",
     "text": [
      "15.0\n"
     ]
    }
   ],
   "source": [
    "# 1. Función lambda para obtener la raíz cuadrada de un número.\n",
    "\n",
    "#vamos usar funcion sqrt para hallar la raiz cuadrada\n",
    "import math \n",
    "\n",
    "#Definimos la funcion lamda para hallar la raiz cuadra\n",
    "x = lambda x: math.sqrt(x)  \n",
    "\n",
    "#imprimimos la ejecucion de la funcion \n",
    "print(x(225)) "
   ]
  },
  {
   "cell_type": "code",
   "execution_count": 11,
   "metadata": {},
   "outputs": [
    {
     "name": "stdout",
     "output_type": "stream",
     "text": [
      "Estos son los largos por palabra:  [3, 3, 3, 6, 10, 7, 2, 8, 2, 3, 2, 6, 4]\n",
      "La lista total tiene un largo de:  59\n"
     ]
    }
   ],
   "source": [
    "# 2. Función map, para obtener el largo de una cadena de palabras. Tip! La cadena tiene que ser dividida en palabras antes de empezar. \n",
    "\n",
    "#vamos a usar la funcion punctuation para quitar primero los signos de puntuacion.\n",
    "import string \n",
    "\n",
    "#Definimos la cadena a trabajar.\n",
    "cadena = \"Aun las mas largas distancias, pierden su grandeza, al dar el primer paso.\" \n",
    "\n",
    "#Quitamos los signos de puntuacion de la cadena\n",
    "cadena_sin_signos = \"\".join(caracter for caracter in cadena if caracter not in string.punctuation)\n",
    "\n",
    "#Ahora dividimos la cadena en una lista de palabras\n",
    "lista_de_palabras = cadena_sin_signos.split()\n",
    "\n",
    "#Realizamos una funcion que permita contar el numero de caracteres de una palabra\n",
    "num = lambda palabra : len(palabra)\n",
    "\n",
    "#Vemos los resultados con una funcion map()\n",
    "lista_largos = list(map(num,lista_de_palabras))\n",
    "print(\"Estos son los largos por palabra: \", lista_largos)\n",
    "\n",
    "# Si queremos ver el total del largo de la cadena completa podriamos usar un reduce para esta lista.\n",
    "from functools import reduce\n",
    "from operator import add\n",
    "\n",
    "largo_total = reduce(add,lista_largos)\n",
    "print(\"La lista total tiene un largo de: \", largo_total)"
   ]
  },
  {
   "cell_type": "code",
   "execution_count": 12,
   "metadata": {},
   "outputs": [
    {
     "data": {
      "text/plain": [
       "18144"
      ]
     },
     "execution_count": 12,
     "metadata": {},
     "output_type": "execute_result"
    }
   ],
   "source": [
    "# 3. Función reduce, que sirva para calcular el producto de una lista \n",
    "\n",
    "#Inicialmente importamos la funcion reduce\n",
    "from functools import reduce\n",
    "\n",
    "#Definimos la lista a operar\n",
    "lista = [2,7,4,9,1,3,12]\n",
    "\n",
    "#Definimos la funcion de multiplicacion con lambda, al mismo tiempo que usamos el reduce\n",
    "reduce(lambda a,b : a * b,lista)"
   ]
  },
  {
   "cell_type": "code",
   "execution_count": 13,
   "metadata": {},
   "outputs": [
    {
     "data": {
      "text/plain": [
       "['Arroz', '123', 'min90', '$DPD']"
      ]
     },
     "execution_count": 13,
     "metadata": {},
     "output_type": "execute_result"
    }
   ],
   "source": [
    "# 4. Función filter que sirva para encontrar palabras que contengan mayúsculas o números en un listado \n",
    "\n",
    "# Creamos un lista de términos para usar en el filtro\n",
    "lista = ['Arroz', ' ', '123', 'minusculas', 'min90', '$DPD', '&/;']\n",
    "\n",
    "# Definimos una funcion que evalue si un término tiene mayuscula o un número\n",
    "def evaluador(termino):\n",
    "    #evaluamos cada caracter del termino\n",
    "    for caracter in termino:\n",
    "        #Evalua si es mayuscula o es numero\n",
    "        if caracter.isupper() or caracter.isdigit():\n",
    "            return True\n",
    "    return False\n",
    "\n",
    "# Filtramos la lista con las condiciones de la funcion\n",
    "list(filter(evaluador,lista))\n",
    "\n"
   ]
  },
  {
   "cell_type": "code",
   "execution_count": null,
   "metadata": {},
   "outputs": [],
   "source": []
  }
 ],
 "metadata": {
  "kernelspec": {
   "display_name": "base",
   "language": "python",
   "name": "python3"
  },
  "language_info": {
   "codemirror_mode": {
    "name": "ipython",
    "version": 3
   },
   "file_extension": ".py",
   "mimetype": "text/x-python",
   "name": "python",
   "nbconvert_exporter": "python",
   "pygments_lexer": "ipython3",
   "version": "3.12.7"
  }
 },
 "nbformat": 4,
 "nbformat_minor": 2
}
